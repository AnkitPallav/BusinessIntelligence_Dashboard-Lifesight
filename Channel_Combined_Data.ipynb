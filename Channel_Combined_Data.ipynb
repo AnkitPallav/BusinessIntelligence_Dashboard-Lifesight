{
  "nbformat": 4,
  "nbformat_minor": 0,
  "metadata": {
    "colab": {
      "provenance": []
    },
    "kernelspec": {
      "name": "python3",
      "display_name": "Python 3"
    },
    "language_info": {
      "name": "python"
    }
  },
  "cells": [
    {
      "cell_type": "code",
      "execution_count": 4,
      "metadata": {
        "id": "kDR7ea0Kkenb"
      },
      "outputs": [],
      "source": [
        "\n",
        "import pandas as pd\n",
        "\n",
        "\n"
      ]
    },
    {
      "cell_type": "code",
      "source": [
        "# Step 1: Load each CSV\n",
        "\n",
        "tiktok = pd.read_csv('TikTok.csv')\n",
        "google = pd.read_csv('Google.csv')\n",
        "facebook = pd.read_csv('Facebook.csv')"
      ],
      "metadata": {
        "id": "ogrHVnaqA8rn"
      },
      "execution_count": 5,
      "outputs": []
    },
    {
      "cell_type": "code",
      "source": [
        "# Step 2: Add 'channel' column\n",
        "tiktok['channel'] = 'TikTok'\n",
        "google['channel'] = 'Google'\n",
        "facebook['channel'] = 'Facebook'"
      ],
      "metadata": {
        "id": "hboZZAtzA_-H"
      },
      "execution_count": 6,
      "outputs": []
    },
    {
      "cell_type": "code",
      "source": [
        "# Step 3: Combine all CSVs\n",
        "\n",
        "df = pd.concat([tiktok, google, facebook], ignore_index=True)\n",
        "\n",
        "# Step 4: Aggregate daily totals per channel\n",
        "\n",
        "daily = df.groupby(['date', 'channel'])[['impression', 'clicks', 'spend', 'attributed revenue']].sum().reset_index()"
      ],
      "metadata": {
        "id": "2JJ5R3BpBFtN"
      },
      "execution_count": 7,
      "outputs": []
    },
    {
      "cell_type": "code",
      "source": [
        "\n",
        "# Step 5: Rename columns\n",
        "daily = daily.rename(columns={\n",
        "    'impression': 'total_impressions',\n",
        "    'clicks': 'total_clicks',\n",
        "    'spend': 'total_spend',\n",
        "    'attributed revenue': 'total_revenue'\n",
        "})\n",
        "\n",
        "# Step 6: Calculate CTR, CPC, ROAS\n",
        "# CTR = clicks / impressions\n",
        "daily['CTR'] = daily['total_clicks'] / daily['total_impressions']\n",
        "\n",
        "# CPC = spend / clicks\n",
        "daily['CPC'] = daily['total_spend'] / daily['total_clicks']\n",
        "\n",
        "# ROAS = revenue / spend\n",
        "daily['ROAS'] = daily['total_revenue'] / daily['total_spend']\n",
        "\n",
        "# Handle division by zero (if clicks or spend = 0)\n",
        "daily['CPC'].replace([float('inf'), -float('inf')], 0, inplace=True)\n",
        "daily['ROAS'].replace([float('inf'), -float('inf')], 0, inplace=True)\n"
      ],
      "metadata": {
        "colab": {
          "base_uri": "https://localhost:8080/"
        },
        "id": "vfqeYtPqBLpN",
        "outputId": "93609927-7486-4298-9fff-69d6e1c8c78c"
      },
      "execution_count": 8,
      "outputs": [
        {
          "output_type": "stream",
          "name": "stderr",
          "text": [
            "/tmp/ipython-input-277902116.py:20: FutureWarning: A value is trying to be set on a copy of a DataFrame or Series through chained assignment using an inplace method.\n",
            "The behavior will change in pandas 3.0. This inplace method will never work because the intermediate object on which we are setting values always behaves as a copy.\n",
            "\n",
            "For example, when doing 'df[col].method(value, inplace=True)', try using 'df.method({col: value}, inplace=True)' or df[col] = df[col].method(value) instead, to perform the operation inplace on the original object.\n",
            "\n",
            "\n",
            "  daily['CPC'].replace([float('inf'), -float('inf')], 0, inplace=True)\n",
            "/tmp/ipython-input-277902116.py:21: FutureWarning: A value is trying to be set on a copy of a DataFrame or Series through chained assignment using an inplace method.\n",
            "The behavior will change in pandas 3.0. This inplace method will never work because the intermediate object on which we are setting values always behaves as a copy.\n",
            "\n",
            "For example, when doing 'df[col].method(value, inplace=True)', try using 'df.method({col: value}, inplace=True)' or df[col] = df[col].method(value) instead, to perform the operation inplace on the original object.\n",
            "\n",
            "\n",
            "  daily['ROAS'].replace([float('inf'), -float('inf')], 0, inplace=True)\n"
          ]
        }
      ]
    },
    {
      "cell_type": "code",
      "source": [
        "# Step 7: Save combined CSV\n",
        "\n",
        "daily.to_csv('combined_channel_data_with_metrics.csv', index=False)\n",
        "\n",
        "print(\"✅ Combined CSV with CTR, CPC, ROAS saved as 'combined_channel_data_with_metrics.csv'\")\n",
        "print(daily.head())"
      ],
      "metadata": {
        "colab": {
          "base_uri": "https://localhost:8080/"
        },
        "id": "9zON6U2iBT4-",
        "outputId": "0b2adf25-5625-425c-9e1f-0f7c285535e6"
      },
      "execution_count": 9,
      "outputs": [
        {
          "output_type": "stream",
          "name": "stdout",
          "text": [
            "✅ Combined CSV with CTR, CPC, ROAS saved as 'combined_channel_data_with_metrics.csv'\n",
            "         date   channel  total_impressions  total_clicks  total_spend  \\\n",
            "0  2025-05-16  Facebook            1475903         19638     15440.67   \n",
            "1  2025-05-16    Google            2033462         83448     12669.47   \n",
            "2  2025-05-16    TikTok            1432113         22237     11997.12   \n",
            "3  2025-05-17  Facebook            1677399         21777     17210.84   \n",
            "4  2025-05-17    Google            1905351         79998     13250.04   \n",
            "\n",
            "   total_revenue       CTR       CPC      ROAS  \n",
            "0       40775.59  0.013306  0.786265  2.640791  \n",
            "1       36422.52  0.041037  0.151825  2.874826  \n",
            "2       33083.74  0.015527  0.539512  2.757640  \n",
            "3       42695.57  0.012983  0.790322  2.480737  \n",
            "4       39544.91  0.041986  0.165630  2.984512  \n"
          ]
        }
      ]
    }
  ]
}